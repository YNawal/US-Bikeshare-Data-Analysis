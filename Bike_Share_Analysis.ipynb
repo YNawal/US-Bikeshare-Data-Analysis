{
 "cells": [
  {
   "cell_type": "markdown",
   "metadata": {},
   "source": [
    "# 2016 US Bike Share Activity Snapshot\n",
    "\n",
    "## Table of Contents\n",
    "- [Introduction](#intro)\n",
    "- [Posing Questions](#pose_questions)\n",
    "- [Data Collection and Wrangling](#wrangling)\n",
    "  - [Condensing the Trip Data](#condensing)\n",
    "- [Exploratory Data Analysis](#eda)\n",
    "  - [Statistics](#statistics)\n",
    "  - [Visualizations](#visualizations)\n",
    "- [Performing Your Own Analysis](#eda_continued)\n",
    "- [Conclusions](#conclusions)\n",
    "\n",
    "<a id='intro'></a>\n",
    "## Introduction\n",
    "\n",
    "Over the past decade, bicycle-sharing systems have been growing in number and popularity in cities across the world. Bicycle-sharing systems allow users to rent bicycles for short trips, typically 30 minutes or less. Thanks to the rise in information technologies, it is easy for a user of the system to access a dock within the system to unlock or return bicycles. These technologies also provide a wealth of data that can be used to explore how these bike-sharing systems are used.\n",
    "\n",
    "In this project, you will perform an exploratory analysis on data provided by [Motivate](https://www.motivateco.com/), a bike-share system provider for many major cities in the United States. You will compare the system usage between three large cities: New York City, Chicago, and Washington, DC. You will also see if there are any differences within each system for those users that are registered, regular users and those users that are short-term, casual users."
   ]
  },
  {
   "cell_type": "markdown",
   "metadata": {},
   "source": [
    "<a id='pose_questions'></a>\n",
    "## Posing Questions\n",
    "\n",
    "Before looking at the bike sharing data, you should start by asking questions you might want to understand about the bike share data. Consider, for example, if you were working for Motivate. What kinds of information would you want to know about in order to make smarter business decisions? If you were a user of the bike-share service, what factors might influence how you would want to use the service?\n",
    "\n",
    "**Question 1**: Write at least two questions related to bike sharing that you think could be answered by data.\n",
    "\n",
    "**Answers**: \n",
    "\n",
    "**If I was working for Motivate, I would ask:**\n",
    "1. What are the cities where we expect the bike-sharing system to work? I take into consideration the population number, the means of transport existed and distance between important service locations in the given city.\n",
    "2. How many bikes must be available at the docks for each city, to ensure continuous service and to not make more bikes available than necessary? \n",
    "3. Would it be profitable to offer a lower trip price to the registered users in a given city?\n",
    "4. What is the appropriate time to offer promotions?\n",
    "\n",
    "**If I was a user of the bike-share service, I would ask:**\n",
    "5. Do the docks well cover the city, where the use of the bike becomes more comfortable than the use of competitive means of transport.\n",
    "6. Can I return the bike to any dock? "
   ]
  },
  {
   "cell_type": "markdown",
   "metadata": {},
   "source": [
    "<a id='wrangling'></a>\n",
    "## Data Collection and Wrangling\n",
    "\n",
    "Now it's time to collect and explore our data. In this project, we will focus on the record of individual trips taken in 2016 from our selected cities: New York City, Chicago, and Washington, DC. Each of these cities has a page where we can freely download the trip data.:\n",
    "\n",
    "- New York City (Citi Bike): [Link](https://www.citibikenyc.com/system-data)\n",
    "- Chicago (Divvy): [Link](https://www.divvybikes.com/system-data)\n",
    "- Washington, DC (Capital Bikeshare): [Link](https://www.capitalbikeshare.com/system-data)\n",
    "\n",
    "If you visit these pages, you will notice that each city has a different way of delivering its data. Chicago updates with new data twice a year, Washington DC is quarterly, and New York City is monthly. **However, you do not need to download the data yourself.** The data has already been collected for you in the `/data/` folder of the project files. While the original data for 2016 is spread among multiple files for each city, the files in the `/data/` folder collect all of the trip data for the year into one file per city. Some data wrangling of inconsistencies in timestamp format within each city has already been performed for you. In addition, a random 2% sample of the original data is taken to make the exploration more manageable. \n",
    "\n",
    "**Question 2**: However, there is still a lot of data for us to investigate, so it's a good idea to start off by looking at one entry from each of the cities we're going to analyze. Run the first code cell below to load some packages and functions that you'll be using in your analysis. Then, complete the second code cell to print out the first trip recorded from each of the cities (the second line of each data file)."
   ]
  },
  {
   "cell_type": "code",
   "execution_count": 2,
   "metadata": {},
   "outputs": [],
   "source": [
    "## import all necessary packages and functions.\n",
    "import csv # read and write csv files\n",
    "from datetime import datetime # operations to parse dates\n",
    "from pprint import pprint # use to print data structures like dictionaries in\n",
    "                          # a nicer way than the base print function."
   ]
  },
  {
   "cell_type": "code",
   "execution_count": 3,
   "metadata": {},
   "outputs": [
    {
     "name": "stdout",
     "output_type": "stream",
     "text": [
      "\n",
      "City: NYC\n",
      "OrderedDict([('tripduration', '839'),\n",
      "             ('starttime', '1/1/2016 00:09:55'),\n",
      "             ('stoptime', '1/1/2016 00:23:54'),\n",
      "             ('start station id', '532'),\n",
      "             ('start station name', 'S 5 Pl & S 4 St'),\n",
      "             ('start station latitude', '40.710451'),\n",
      "             ('start station longitude', '-73.960876'),\n",
      "             ('end station id', '401'),\n",
      "             ('end station name', 'Allen St & Rivington St'),\n",
      "             ('end station latitude', '40.72019576'),\n",
      "             ('end station longitude', '-73.98997825'),\n",
      "             ('bikeid', '17109'),\n",
      "             ('usertype', 'Customer'),\n",
      "             ('birth year', ''),\n",
      "             ('gender', '0')])\n",
      "\n",
      "City: Chicago\n",
      "OrderedDict([('trip_id', '9080545'),\n",
      "             ('starttime', '3/31/2016 23:30'),\n",
      "             ('stoptime', '3/31/2016 23:46'),\n",
      "             ('bikeid', '2295'),\n",
      "             ('tripduration', '926'),\n",
      "             ('from_station_id', '156'),\n",
      "             ('from_station_name', 'Clark St & Wellington Ave'),\n",
      "             ('to_station_id', '166'),\n",
      "             ('to_station_name', 'Ashland Ave & Wrightwood Ave'),\n",
      "             ('usertype', 'Subscriber'),\n",
      "             ('gender', 'Male'),\n",
      "             ('birthyear', '1990')])\n",
      "\n",
      "City: Washington\n",
      "OrderedDict([('Duration (ms)', '427387'),\n",
      "             ('Start date', '3/31/2016 22:57'),\n",
      "             ('End date', '3/31/2016 23:04'),\n",
      "             ('Start station number', '31602'),\n",
      "             ('Start station', 'Park Rd & Holmead Pl NW'),\n",
      "             ('End station number', '31207'),\n",
      "             ('End station', 'Georgia Ave and Fairmont St NW'),\n",
      "             ('Bike number', 'W20842'),\n",
      "             ('Member Type', 'Registered')])\n"
     ]
    }
   ],
   "source": [
    "def print_first_point(filename):\n",
    "    \"\"\"\n",
    "    This function prints and returns the first data point (second row) from\n",
    "    a csv file that includes a header row.\n",
    "    \"\"\"\n",
    "    # print city name for reference\n",
    "    city = filename.split('-')[0].split('/')[-1]\n",
    "    print('\\nCity: {}'.format(city))\n",
    "    \n",
    "    with open(filename, 'r') as f_in:\n",
    "        ## TODO: Use the csv library to set up a DictReader object. ##\n",
    "        ## see https://docs.python.org/3/library/csv.html           ##\n",
    "\n",
    "        trip_reader = csv.DictReader(f_in)\n",
    "        \n",
    "        ## TODO: Use a function on the DictReader object to read the     ##\n",
    "        ## first trip from the data file and store it in a variable.     ##\n",
    "        ## see https://docs.python.org/3/library/csv.html#reader-objects ##\n",
    "      \n",
    "        first_trip = trip_reader.__next__()\n",
    "        \n",
    "        ## TODO: Use the pprint library to print the first trip. ##\n",
    "        ## see https://docs.python.org/3/library/pprint.html     ##\n",
    "        # print(first_trip)\n",
    "        pprint(first_trip)\n",
    "    # output city name and first trip for later testing\n",
    "    return (city, first_trip)\n",
    "\n",
    "data_files = ['./data/NYC-CitiBike-2016.csv',\n",
    "              './data/Chicago-Divvy-2016.csv',\n",
    "              './data/Washington-CapitalBikeshare-2016.csv',]\n",
    "\n",
    " \n",
    "# print the first trip from each file, store in dictionary\n",
    "example_trips = {}\n",
    "for data_file in data_files:\n",
    "    city, first_trip = print_first_point(data_file)\n",
    "    example_trips[city] = first_trip\n",
    "    "
   ]
  },
  {
   "cell_type": "markdown",
   "metadata": {},
   "source": [
    "If everything has been filled out correctly, you should see below the printout of each city name (which has been parsed from the data file name) that the first trip has been parsed in the form of a dictionary. When you set up a `DictReader` object, the first row of the data file is normally interpreted as column names. Every other row in the data file will use those column names as keys, as a dictionary is generated for each row.\n",
    "\n",
    "This will be useful since we can refer to quantities by an easily-understandable label instead of just a numeric index. For example, if we have a trip stored in the variable `row`, then we would rather get the trip duration from `row['duration']` instead of `row[0]`.\n",
    "\n",
    "<a id='condensing'></a>\n",
    "### Condensing the Trip Data\n",
    "\n",
    "It should also be observable from the above printout that each city provides different information. Even where the information is the same, the column names and formats are sometimes different. To make things as simple as possible when we get to the actual exploration, we should trim and clean the data. Cleaning the data makes sure that the data formats across the cities are consistent, while trimming focuses only on the parts of the data we are most interested in to make the exploration easier to work with.\n",
    "\n",
    "You will generate new data files with five values of interest for each trip: trip duration, starting month, starting hour, day of the week, and user type. Each of these may require additional wrangling depending on the city:\n",
    "\n",
    "- **Duration**: This has been given to us in seconds (New York, Chicago) or milliseconds (Washington). A more natural unit of analysis will be if all the trip durations are given in terms of minutes.\n",
    "- **Month**, **Hour**, **Day of Week**: Ridership volume is likely to change based on the season, time of day, and whether it is a weekday or weekend. Use the start time of the trip to obtain these values. The New York City data includes the seconds in their timestamps, while Washington and Chicago do not. The [`datetime`](https://docs.python.org/3/library/datetime.html) package will be very useful here to make the needed conversions.\n",
    "- **User Type**: It is possible that users who are subscribed to a bike-share system will have different patterns of use compared to users who only have temporary passes. Washington divides its users into two types: 'Registered' for users with annual, monthly, and other longer-term subscriptions, and 'Casual', for users with 24-hour, 3-day, and other short-term passes. The New York and Chicago data uses 'Subscriber' and 'Customer' for these groups, respectively. For consistency, you will convert the Washington labels to match the other two.\n",
    "\n",
    "\n",
    "**Question 3a**: Complete the helper functions in the code cells below to address each of the cleaning tasks described above."
   ]
  },
  {
   "cell_type": "code",
   "execution_count": 4,
   "metadata": {},
   "outputs": [],
   "source": [
    "def duration_in_mins(datum, city):\n",
    "    \"\"\"\n",
    "    Takes as input a dictionary containing info about a single trip (datum) and\n",
    "    its origin city (city) and returns the trip duration in units of minutes.\n",
    "    \n",
    "    Remember that Washington is in terms of milliseconds while Chicago and NYC\n",
    "    are in terms of seconds. \n",
    "    \n",
    "    HINT: The csv module reads in all of the data as strings, including numeric\n",
    "    values. You will need a function to convert the strings into an appropriate\n",
    "    numeric type when making your transformations.\n",
    "    see https://docs.python.org/3/library/functions.html\n",
    "    \"\"\"\n",
    "    if city =='Washington':\n",
    "        # 1 sec. = 1000 ms\n",
    "        # 1 min. = 1000 *60 ms = 60000 ms\n",
    "        # I rounded the duration as in tests dict\n",
    "        duration = round(int(datum['Duration (ms)'])/60000,4)\n",
    "    else:\n",
    "        # 1 min. = 60 s \n",
    "        duration = round(int(datum['tripduration'])/60,4)\n",
    "    \n",
    "    return duration\n",
    "# Some tests to check that your code works. There should be no output if all of\n",
    "# the assertions pass. The `example_trips` dictionary was obtained from when\n",
    "# you printed the first trip from each of the original data files.\n",
    "tests = {'NYC': 13.9833,\n",
    "         'Chicago': 15.4333,\n",
    "         'Washington': 7.1231}\n",
    "\n",
    "for city in tests:\n",
    "    assert abs(duration_in_mins(example_trips[city], city) - tests[city]) <.001\n",
    "\n"
   ]
  },
  {
   "cell_type": "code",
   "execution_count": 5,
   "metadata": {},
   "outputs": [],
   "source": [
    "def time_of_trip(datum, city):\n",
    "    \"\"\"\n",
    "    Takes as input a dictionary containing info about a single trip (datum) and\n",
    "    its origin city (city) and returns the month, hour, and day of the week in\n",
    "    which the trip was made.\n",
    "    \n",
    "    Remember that NYC includes seconds, while Washington and Chicago do not.\n",
    "    \n",
    "    HINT: You should use the datetime module to parse the original date\n",
    "    strings into a format that is useful for extracting the desired information.\n",
    "    see https://docs.python.org/3/library/datetime.html#strftime-and-strptime-behavior\n",
    "    \"\"\"\n",
    "    # YOUR CODE HEREY\n",
    "    if city == 'NYC':\n",
    "        # strptime datetime function takes 2 arguments, date string and format string\n",
    "        d = datetime.strptime(datum['starttime'],'%m/%d/%Y %H:%M:%S')\n",
    "        month = d.month\n",
    "        hour = d.hour\n",
    "        # to extract Weekday as locale’s full name, use %A as a string format when calling strftime.\n",
    "        day_of_week = d.strftime(\"%A\")\n",
    "        ## start_id and end_id are used to answer to question 6.4 and 6.5\n",
    "        #start_id = datum['start station id']\n",
    "        #end_id = datum['end station id']\n",
    "\n",
    "\n",
    "    elif city =='Washington':\n",
    "        d = datetime.strptime(datum['Start date'],'%m/%d/%Y %H:%M')\n",
    "        month = d.month\n",
    "        hour = d.hour\n",
    "        day_of_week = d.strftime(\"%A\") \n",
    "        ## start_id and end_id are used to answer to question 6.4 and 6.5\n",
    "        #start_id = datum['Start station number']\n",
    "        #end_id = datum['End station number']\n",
    " \n",
    "\n",
    "    else:\n",
    "        d = datetime.strptime(datum['starttime'],'%m/%d/%Y %H:%M')\n",
    "        month = d.month\n",
    "        hour = d.hour\n",
    "        day_of_week = d.strftime(\"%A\")  \n",
    "        ## start_id and end_id are used to answer to question 6.4 and 6.5\n",
    "        #start_id = datum['from_station_id']\n",
    "        #end_id = datum['to_station_id']\n",
    "\n",
    "\n",
    "    #return (month, hour,day_of_week,start_id,end_id)\n",
    "    return (month, hour,day_of_week)\n",
    "\n",
    "# Some tests to check that your code works. There should be no output if all of\n",
    "# the assertions pass. The `example_trips` dictionary was obtained from when\n",
    "# you printed the first trip from each of the original data files.\n",
    "tests = {'NYC': (1, 0, 'Friday'),\n",
    "         'Chicago': (3, 23, 'Thursday'),\n",
    "         'Washington': (3, 22, 'Thursday')}\n",
    "\n",
    "for city in tests:\n",
    "    assert time_of_trip(example_trips[city], city) == tests[city]"
   ]
  },
  {
   "cell_type": "code",
   "execution_count": 6,
   "metadata": {},
   "outputs": [],
   "source": [
    "def type_of_user(datum, city):\n",
    "    \"\"\"\n",
    "    Takes as input a dictionary containing info about a single trip (datum) and\n",
    "    its origin city (city) and returns the type of system user that made the\n",
    "    trip.\n",
    "    \n",
    "    Remember that Washington has different category names compared to Chicago\n",
    "    and NYC. \n",
    "    \"\"\"\n",
    "    \n",
    "    # YOUR CODE HERE\n",
    "    if city == 'Washington':\n",
    "        if datum['Member Type']=='Registered':\n",
    "            user_type = 'Subscriber'\n",
    "        else:\n",
    "            user_type = 'Customer'\n",
    "    else:\n",
    "        user_type = datum['usertype']\n",
    "            \n",
    "        \n",
    "    return user_type\n",
    "\n",
    "\n",
    "# Some tests to check that your code works. There should be no output if all of\n",
    "# the assertions pass. The `example_trips` dictionary was obtained from when\n",
    "# you printed the first trip from each of the original data files.\n",
    "tests = {'NYC': 'Customer',\n",
    "         'Chicago': 'Subscriber',\n",
    "         'Washington': 'Subscriber'}\n",
    "\n",
    "for city in tests:\n",
    "    assert type_of_user(example_trips[city], city) == tests[city]"
   ]
  },
  {
   "cell_type": "markdown",
   "metadata": {},
   "source": [
    "**Question 3b**: Now, use the helper functions you wrote above to create a condensed data file for each city consisting only of the data fields indicated above. In the `/examples/` folder, you will see an example datafile from the [Bay Area Bike Share](http://www.bayareabikeshare.com/open-data) before and after conversion. Make sure that your output is formatted to be consistent with the example file."
   ]
  },
  {
   "cell_type": "code",
   "execution_count": 7,
   "metadata": {},
   "outputs": [],
   "source": [
    "def condense_data(in_file, out_file, city):\n",
    "    \"\"\"\n",
    "    This function takes full data from the specified input file\n",
    "    and writes the condensed data to a specified output file. The city\n",
    "    argument determines how the input file will be parsed.\n",
    "    \n",
    "    HINT: See the cell below to see how the arguments are structured!\n",
    "    \"\"\"\n",
    "    \n",
    "    with open(out_file, 'w') as f_out, open(in_file, 'r') as f_in:\n",
    "        # set up csv DictWriter object - writer requires column names for the\n",
    "        # first row as the \"fieldnames\" argument\n",
    "        #out_colnames = ['duration', 'month', 'hour', 'day_of_week', 'start_id', 'end_id','user_type']        \n",
    "        out_colnames = ['duration', 'month', 'hour', 'day_of_week','user_type']\n",
    "        trip_writer = csv.DictWriter(f_out, fieldnames = out_colnames)\n",
    "        trip_writer.writeheader()\n",
    "        \n",
    "        ## TODO: set up csv DictReader object ##\n",
    "        trip_reader = csv.DictReader(f_in)\n",
    "         \n",
    "        # collect data from and process each row\n",
    "        for row in trip_reader:\n",
    "            \n",
    "            # set up a dictionary to hold the values for the cleaned and trimmed\n",
    "            # data point\n",
    "            new_point = {}\n",
    "\n",
    "            ## TODO: use the helper functions to get the cleaned data from  ##\n",
    "            ## the original data dictionaries.                              ##\n",
    "            ## Note that the keys for the new_point dictionary should match ##\n",
    "            ## the column names set in the DictWriter object above.         ##\n",
    "            new_point['duration'] = duration_in_mins(row, city)\n",
    "            new_point['month'],new_point['hour'],new_point['day_of_week']= time_of_trip(row, city)\n",
    "            #new_point['month'],new_point['hour'],new_point['day_of_week'], new_point['day'],new_point['start_id'],new_point['end_id'],new_point['bike_id']  = time_of_trip(row, city)\n",
    "            new_point['user_type'] = type_of_user(row, city)\n",
    "            #pprint(new_point)\n",
    "            ## TODO: write the processed information to the output file.     ##\n",
    "            ## see https://docs.python.org/3/library/csv.html#writer-objects ##\n",
    "            \n",
    "            # use writerow to write one row in the file\n",
    "            trip_writer.writerow(new_point)\n",
    "            \n",
    "  "
   ]
  },
  {
   "cell_type": "code",
   "execution_count": 7,
   "metadata": {},
   "outputs": [
    {
     "name": "stdout",
     "output_type": "stream",
     "text": [
      "\n",
      "City: Washington\n",
      "OrderedDict([('duration', '7.1231'),\n",
      "             ('month', '3'),\n",
      "             ('hour', '22'),\n",
      "             ('day_of_week', 'Thursday'),\n",
      "             ('user_type', 'Subscriber')])\n",
      "\n",
      "City: Chicago\n",
      "OrderedDict([('duration', '15.4333'),\n",
      "             ('month', '3'),\n",
      "             ('hour', '23'),\n",
      "             ('day_of_week', 'Thursday'),\n",
      "             ('user_type', 'Subscriber')])\n",
      "\n",
      "City: NYC\n",
      "OrderedDict([('duration', '13.9833'),\n",
      "             ('month', '1'),\n",
      "             ('hour', '0'),\n",
      "             ('day_of_week', 'Friday'),\n",
      "             ('user_type', 'Customer')])\n"
     ]
    }
   ],
   "source": [
    "# Run this cell to check your work\n",
    "city_info = {'Washington': {'in_file': './data/Washington-CapitalBikeshare-2016.csv',\n",
    "                            'out_file': './data/Washington-2016-Summary.csv'},\n",
    "             'Chicago': {'in_file': './data/Chicago-Divvy-2016.csv',\n",
    "                         'out_file': './data/Chicago-2016-Summary.csv'},\n",
    "             'NYC': {'in_file': './data/NYC-CitiBike-2016.csv',\n",
    "                     'out_file': './data/NYC-2016-Summary.csv'}}\n",
    "\n",
    "for city, filenames in city_info.items():\n",
    "    condense_data(filenames['in_file'], filenames['out_file'], city)\n",
    "    print_first_point(filenames['out_file'])"
   ]
  },
  {
   "cell_type": "markdown",
   "metadata": {},
   "source": [
    "> **Tip**: If you save a jupyter Notebook, the output from running code blocks will also be saved. However, the state of your workspace will be reset once a new session is started. Make sure that you run all of the necessary code blocks from your previous session to reestablish variables and functions before picking up where you last left off.\n",
    "\n",
    "<a id='eda'></a>\n",
    "## Exploratory Data Analysis\n",
    "\n",
    "Now that you have the data collected and wrangled, you're ready to start exploring the data. In this section you will write some code to compute descriptive statistics from the data. You will also be introduced to the `matplotlib` library to create some basic histograms of the data.\n",
    "\n",
    "<a id='statistics'></a>\n",
    "### Statistics\n",
    "\n",
    "First, let's compute some basic counts. The first cell below contains a function that uses the csv module to iterate through a provided data file, returning the number of trips made by subscribers and customers. The second cell runs this function on the example Bay Area data in the `/examples/` folder. Modify the cells to answer the question below.\n",
    "\n",
    "**Question 4a**: Which city has the highest number of trips? Which city has the highest proportion of trips made by subscribers? Which city has the highest proportion of trips made by short-term customers?\n",
    "\n",
    "**Answer**: \n",
    " - The city that has the highest numbers of trips is: NYC\n",
    " - The city that has the highest proportion of trips made by subscribers is: NYC\n",
    " - The city that has the highest proportion of trips made by customers is: Chicago\n"
   ]
  },
  {
   "cell_type": "code",
   "execution_count": 8,
   "metadata": {},
   "outputs": [],
   "source": [
    "def number_of_trips(filename):\n",
    "    \"\"\"\n",
    "    This function reads in a trip data file and reports the number of\n",
    "    trips made by subscribers, customers, and total overall.\n",
    "    \"\"\"\n",
    "    with open(filename, 'r') as f_in:\n",
    "        # set up csv reader object\n",
    "        reader = csv.DictReader(f_in)\n",
    "         \n",
    "        \n",
    "        # initialize count variables\n",
    "        n_subscribers = 0\n",
    "        n_customers = 0\n",
    "        \n",
    "        # tally up ride types\n",
    "        for row in reader:\n",
    "            if row['user_type'] == 'Subscriber':\n",
    "                n_subscribers += 1\n",
    "            else:\n",
    "                n_customers += 1\n",
    "        \n",
    "        # compute total number of rides\n",
    "        n_total = n_subscribers + n_customers\n",
    "        \n",
    "        # return tallies as a tuple\n",
    "        return(round(n_subscribers*100/n_total,1), round(n_customers*100/n_total,1), n_total)"
   ]
  },
  {
   "cell_type": "code",
   "execution_count": 8,
   "metadata": {},
   "outputs": [],
   "source": [
    "def highest_number_trips(filenames):\n",
    "    \"\"\"\n",
    "    This function takes cities trip data filesnames list as input and\n",
    "    calls the 'number_of_trips' statistics function for each city \n",
    "    and reports which city has the highest statistics \n",
    "    \"\"\"\n",
    "    # create a nested dict to sum up the statistics of the 3 cities\n",
    "    statis ={}\n",
    "    for file in filenames:\n",
    "        city = file.split('-')[0].split('/')[-1]\n",
    "        # call of the number_of_trips\n",
    "        n_subscribers, n_customers, n_total = number_of_trips(file)\n",
    "        statis[city] ={}\n",
    "        statis[city]['n_subscribers in %'] = n_subscribers\n",
    "        statis[city]['n_customers in %'] = n_customers\n",
    "        statis[city]['n_total'] = n_total\n",
    "        \n",
    "    pprint(statis)\n",
    "    \n",
    "    list1,list2,list3 = [],[],[]\n",
    "    # compute the max of each statistic\n",
    "    for city in statis:\n",
    "        list1.append(float(statis[city]['n_subscribers in %']))\n",
    "        list2.append(float(statis[city]['n_customers in %']))\n",
    "        list3.append(float(statis[city]['n_total']))\n",
    "    \n",
    "    max_subscribers  = max(list1)  \n",
    "    max_customers    = max(list2)  \n",
    "    max_total        = max(list3)  \n",
    "    \n",
    "    for city, numbers in statis.items():\n",
    "        if float(numbers['n_subscribers in %']) == max_subscribers:\n",
    "            hsubs = city\n",
    "            break\n",
    "            \n",
    "    for city, numbers in statis.items():\n",
    "        if float(numbers['n_customers in %']) == max_customers:\n",
    "            hcust = city\n",
    "            break\n",
    "            \n",
    "    for city, numbers in statis.items():\n",
    "        if float(numbers['n_total']) == max_total:\n",
    "            htrips = city\n",
    "            break\n",
    "            \n",
    "    return statis,hcust, hsubs, htrips"
   ]
  },
  {
   "cell_type": "code",
   "execution_count": 10,
   "metadata": {},
   "outputs": [
    {
     "name": "stdout",
     "output_type": "stream",
     "text": [
      "(90.0, 10.0, 6299)\n",
      "\n",
      "\n",
      "{'Chicago': {'n_customers in %': 23.8,\n",
      "             'n_subscribers in %': 76.2,\n",
      "             'n_total': 72131},\n",
      " 'NYC': {'n_customers in %': 11.2,\n",
      "         'n_subscribers in %': 88.8,\n",
      "         'n_total': 276798},\n",
      " 'Washington': {'n_customers in %': 22.0,\n",
      "                'n_subscribers in %': 78.0,\n",
      "                'n_total': 66326}}\n",
      "\n",
      " The city that has the highest numbers of trips is: NYC\n",
      " The city that has the highest proportion of trips made by subscribers is: NYC\n",
      " The city that has the highest proportion of trips made by customers is: Chicago\n"
     ]
    }
   ],
   "source": [
    "## Modify this and the previous cell to answer Question 4a. Remember to run ##\n",
    "## the function on the cleaned data files you created from Question 3.      ##\n",
    "\n",
    "data_file = './examples/BayArea-Y3-Summary.csv'\n",
    "print(number_of_trips(data_file))\n",
    "\n",
    "print('\\n')\n",
    "\n",
    "data_files = ['./data/Washington-2016-Summary.csv','./data/Chicago-2016-Summary.csv','./data/NYC-2016-Summary.csv']\n",
    "statis, hcust, hsubs, htrips = highest_number_trips(data_files)\n",
    "\n",
    "print('\\n The city that has the highest numbers of trips is: {}'.format(htrips))\n",
    "print(' The city that has the highest proportion of trips made by subscribers is: {}'.format(hsubs))\n",
    "print(' The city that has the highest proportion of trips made by customers is: {}'.format(hcust))\n",
    "\n"
   ]
  },
  {
   "cell_type": "markdown",
   "metadata": {},
   "source": [
    "> **Tip**: In order to add additional cells to a notebook, you can use the \"Insert Cell Above\" and \"Insert Cell Below\" options from the menu bar above. There is also an icon in the toolbar for adding new cells, with additional icons for moving the cells up and down the document. By default, new cells are of the code type; you can also specify the cell type (e.g. Code or Markdown) of selected cells from the Cell menu or the dropdown in the toolbar.\n",
    "\n",
    "Now, you will write your own code to continue investigating properties of the data.\n",
    "\n",
    "**Question 4b**: Bike-share systems are designed for riders to take short trips. Most of the time, users are allowed to take trips of 30 minutes or less with no additional charges, with overage charges made for trips of longer than that duration. What is the average trip length for each city? What proportion of rides made in each city are longer than 30 minutes?\n",
    "\n",
    "**Answer**: \n",
    "- The average trip length in Washington is 10.8 minutes and 18.9 % of trips are longer than 30 minutes\n",
    "- The average trip length in Chicago is 8.3 minutes and 16.6 % of trips are longer than 30 minutes\n",
    "- The average trip length in NYC is 7.3 minutes and 15.8 % of trips are longer than 30 minutes"
   ]
  },
  {
   "cell_type": "code",
   "execution_count": 9,
   "metadata": {
    "scrolled": true
   },
   "outputs": [],
   "source": [
    "## Use this and additional cells to answer Question 4b.                 ##\n",
    "##                                                                      ##\n",
    "## HINT: The csv module reads in all of the data as strings, including  ##\n",
    "## numeric values. You will need a function to convert the strings      ##\n",
    "## into an appropriate numeric type before you aggregate data.          ##\n",
    "## TIP: For the Bay Area example, the average trip length is 14 minutes ##\n",
    "## and 3.5% of trips are longer than 30 minutes.                        ##\n",
    "def average_trips_length(filename):\n",
    "      \n",
    "        \"\"\"\n",
    "        This function takes a filename trips data and returns the average trips\n",
    "        length and the proportion of trips that lasted longer than 30 minutes.\n",
    "        \"\"\"\n",
    "        with open(filename, 'r') as f_in:\n",
    "            # set up csv reader object\n",
    "            reader = csv.DictReader(f_in)\n",
    "           \n",
    "            # initialize count variables\n",
    "            av_trip_len = 0\n",
    "            n_total     = 0\n",
    "            n_rides30   = 0\n",
    "        \n",
    "            # tally up trip duration\n",
    "            for row in reader:\n",
    "                av_trip_len += float(row['duration'])\n",
    "                n_total += 1\n",
    "                if float(row['duration']) > 30:\n",
    "                     n_rides30 += 1\n",
    "                    \n",
    "                \n",
    "        # Average trip duration\n",
    "        av_trip_len = av_trip_len/n_total\n",
    "        \n",
    "        # returns average trip length and propostion of trips with duration > 30mins\n",
    "        return round(n_rides30*100/n_total,1),round(av_trip_len,1)\n"
   ]
  },
  {
   "cell_type": "code",
   "execution_count": 12,
   "metadata": {},
   "outputs": [
    {
     "name": "stdout",
     "output_type": "stream",
     "text": [
      "(3.5, 14.0)\n",
      "\n",
      "\n",
      "The average trip length in Washington is 10.8 minutes and 18.9 % of trips are longer than 30 minutes\n",
      "The average trip length in Chicago is 8.3 minutes and 16.6 % of trips are longer than 30 minutes\n",
      "The average trip length in NYC is 7.3 minutes and 15.8 % of trips are longer than 30 minutes\n"
     ]
    }
   ],
   "source": [
    "data_file = './examples/BayArea-Y3-Summary.csv'\n",
    "print(average_trips_length(data_file))\n",
    "\n",
    "print('\\n')\n",
    "\n",
    "data_files = ['./data/Washington-2016-Summary.csv','./data/Chicago-2016-Summary.csv','./data/NYC-2016-Summary.csv']\n",
    "for file in data_files:\n",
    "    city = file.split('-')[0].split('/')[-1]\n",
    "    print('The average trip length in {} is {} minutes and {} % of trips are longer than 30 minutes'.format(city,average_trips_length(file)[0],average_trips_length(file)[1])) \n",
    "    "
   ]
  },
  {
   "cell_type": "markdown",
   "metadata": {},
   "source": [
    "**Question 4c**: Dig deeper into the question of trip duration based on ridership. Choose one city. Within that city, which type of user takes longer rides on average: Subscribers or Customers?\n",
    "\n",
    "**Answer**: Within the NYC city, Customers are the riders who make the longer rides on average of 32.8 minutes."
   ]
  },
  {
   "cell_type": "code",
   "execution_count": 10,
   "metadata": {},
   "outputs": [],
   "source": [
    "## Use this and additional cells to answer Question 4c. If you have    ##\n",
    "## not done so yet, consider revising some of your previous code to    ##\n",
    "## make use of functions for reusability.                              ##\n",
    "##                                                                     ##\n",
    "## TIP: For the Bay Area example data, you should find the average     ##\n",
    "## Subscriber trip duration to be 9.5 minutes and the average Customer ##\n",
    "## trip duration to be 54.6 minutes. Do the other cities have this     ##\n",
    "## level of difference?                                                ##\n",
    "\n",
    "def longer_rides (filename):\n",
    "    \"\"\"\n",
    "    This function reads in a trip data file and reports which user type\n",
    "    takes longer rides on average: Subscribers or Customers?\n",
    "    \"\"\"\n",
    "    with open(filename, 'r') as f_in:\n",
    "        # set up csv reader object\n",
    "        reader = csv.DictReader(f_in)\n",
    "         \n",
    "        \n",
    "        # initialize count variables\n",
    "        duration_subscribers = 0\n",
    "        duration_customers = 0\n",
    "        \n",
    "        n_subscribers = 0\n",
    "        n_customers = 0\n",
    "        \n",
    "        # tally up ride for each user type\n",
    "        for row in reader:\n",
    "            if row['user_type'] == 'Subscriber':\n",
    "                duration_subscribers += float(row['duration'])\n",
    "                n_subscribers += 1\n",
    "            else:\n",
    "                duration_customers += float(row['duration'])\n",
    "                n_customers += 1\n",
    "        \n",
    "    if round(duration_subscribers/n_subscribers,1)> round(duration_customers/n_customers,1):\n",
    "        # return longer rides user type\n",
    "        return(round(duration_subscribers/n_subscribers,1), 'Subscriber')\n",
    "    else:\n",
    "        return(round(duration_customers/n_customers,1), 'Customers')\n",
    "        "
   ]
  },
  {
   "cell_type": "code",
   "execution_count": 14,
   "metadata": {},
   "outputs": [
    {
     "name": "stdout",
     "output_type": "stream",
     "text": [
      "(54.6, 'Customers')\n",
      "Within the NYC city, Customers are the riders who make the longer rides on average of 32.8 minutes.\n"
     ]
    }
   ],
   "source": [
    "data_file = './examples/BayArea-Y3-Summary.csv'\n",
    "print(longer_rides(data_file))\n",
    "data_file = './data/NYC-2016-Summary.csv'\n",
    "city = file.split('-')[0].split('/')[-1]\n",
    "print('Within the {} city, {} are the riders who make the longer rides on average of {} minutes.'.format(city,longer_rides(data_file)[1],longer_rides(data_file)[0]))"
   ]
  },
  {
   "cell_type": "markdown",
   "metadata": {},
   "source": [
    "<a id='visualizations'></a>\n",
    "### Visualizations\n",
    "\n",
    "The last set of values that you computed should have pulled up an interesting result. While the mean trip time for Subscribers is well under 30 minutes, the mean trip time for Customers is actually _above_ 30 minutes! It will be interesting for us to look at how the trip times are distributed. In order to do this, a new library will be introduced here, `matplotlib`. Run the cell below to load the library and to generate an example plot."
   ]
  },
  {
   "cell_type": "code",
   "execution_count": 11,
   "metadata": {},
   "outputs": [
    {
     "data": {
      "image/png": "[encoded data removed]",
      "text/plain": [
       "<matplotlib.figure.Figure at 0x7f2c94aeb908>"
      ]
     },
     "metadata": {
      "needs_background": "light"
     },
     "output_type": "display_data"
    }
   ],
   "source": [
    "# load library\n",
    "import matplotlib.pyplot as plt\n",
    "\n",
    "# this is a 'magic word' that allows for plots to be displayed\n",
    "# inline with the notebook. If you want to know more, see:\n",
    "# http://ipython.readthedocs.io/en/stable/interactive/magics.html\n",
    "%matplotlib inline \n",
    "\n",
    "# example histogram, data taken from bay area sample\n",
    "data = [ 7.65,  8.92,  7.42,  5.50, 16.17,  4.20,  8.98,  9.62, 11.48, 14.33,\n",
    "        19.02, 21.53,  3.90,  7.97,  2.62,  2.67,  3.08, 14.40, 12.90,  7.83,\n",
    "        25.12,  8.30,  4.93, 12.43, 10.60,  6.17, 10.88,  4.78, 15.15,  3.53,\n",
    "         9.43, 13.32, 11.72,  9.85,  5.22, 15.10,  3.95,  3.17,  8.78,  1.88,\n",
    "         4.55, 12.68, 12.38,  9.78,  7.63,  6.45, 17.38, 11.90, 11.52,  8.63,]\n",
    "plt.hist(data)\n",
    "plt.title('Distribution of Trip Durations')\n",
    "plt.xlabel('Duration (m)')\n",
    "plt.show()"
   ]
  },
  {
   "cell_type": "markdown",
   "metadata": {},
   "source": [
    "In the above cell, we collected fifty trip times in a list, and passed this list as the first argument to the `.hist()` function. This function performs the computations and creates plotting objects for generating a histogram, but the plot is actually not rendered until the `.show()` function is executed. The `.title()` and `.xlabel()` functions provide some labeling for plot context.\n",
    "\n",
    "You will now use these functions to create a histogram of the trip times for the city you selected in question 4c. Don't separate the Subscribers and Customers for now: just collect all of the trip times and plot them."
   ]
  },
  {
   "cell_type": "code",
   "execution_count": 12,
   "metadata": {},
   "outputs": [],
   "source": [
    "## Use this and additional cells to collect all of the trip times as a list ##\n",
    "## and then use pyplot functions to generate a histogram of trip times.     ##\n",
    "\n",
    "def duration (filename):\n",
    "    \"\"\"\n",
    "    This function reads in a trip data file \n",
    "    and returns all duration data as a list\n",
    "    \"\"\"\n",
    "    with open(filename, 'r') as f_in:\n",
    "        # set up csv reader object\n",
    "        reader = csv.DictReader(f_in)\n",
    "       \n",
    "        # initialize count variable\n",
    "        duration = []\n",
    "        \n",
    "        # tally up ride types\n",
    "        for row in reader:\n",
    "                duration.append(float(row['duration']))\n",
    "                \n",
    "    return duration\n"
   ]
  },
  {
   "cell_type": "code",
   "execution_count": 15,
   "metadata": {},
   "outputs": [
    {
     "data": {
      "image/png": "[encoded data removed]",
      "text/plain": [
       "<matplotlib.figure.Figure at 0x7f74b7ee3f60>"
      ]
     },
     "metadata": {
      "needs_background": "light"
     },
     "output_type": "display_data"
    }
   ],
   "source": [
    "data_file = './data/NYC-2016-Summary.csv'\n",
    "data = duration (data_file)\n",
    "plt.hist(data)\n",
    "plt.title('Distribution of Trip Durations in NYC')\n",
    "plt.xlabel('Duration (m)')\n",
    "plt.show()"
   ]
  },
  {
   "cell_type": "code",
   "execution_count": 13,
   "metadata": {},
   "outputs": [
    {
     "data": {
      "image/png": "[encoded data removed]",
      "text/plain": [
       "<matplotlib.figure.Figure at 0x7f2c9a4d06a0>"
      ]
     },
     "metadata": {
      "needs_background": "light"
     },
     "output_type": "display_data"
    }
   ],
   "source": [
    "\n",
    "data_file = './data/NYC-2016-Summary.csv'\n",
    "data = duration (data_file)\n",
    "\n",
    "# to allow data from 0 to 100 minutes. 5 is the hist bin width \n",
    "bins = range(0,100,5)\n",
    "\n",
    "plt.hist(data, bins)\n",
    "plt.title('Distribution of Trip Durations in NYC')\n",
    "plt.xlabel('Duration (m)')\n",
    "plt.show()"
   ]
  },
  {
   "cell_type": "markdown",
   "metadata": {},
   "source": [
    "If you followed the use of the `.hist()` and `.show()` functions exactly like in the example, you're probably looking at a plot that's completely unexpected. The plot consists of one extremely tall bar on the left, maybe a very short second bar, and a whole lot of empty space in the center and right. Take a look at the duration values on the x-axis. This suggests that there are some highly infrequent outliers in the data. Instead of reprocessing the data, you will use additional parameters with the `.hist()` function to limit the range of data that is plotted. Documentation for the function can be found [[here]](https://matplotlib.org/devdocs/api/_as_gen/matplotlib.pyplot.hist.html#matplotlib.pyplot.hist).\n",
    "\n",
    "**Question 5**: Use the parameters of the `.hist()` function to plot the distribution of trip times for the Subscribers in your selected city. Do the same thing for only the Customers. Add limits to the plots so that only trips of duration less than 75 minutes are plotted. As a bonus, set the plots up so that bars are in five-minute wide intervals. For each group, where is the peak of each distribution? How would you describe the shape of each distribution?\n",
    "\n",
    "**Answer**: \n",
    "\n",
    "For Customers group, the peak of distribution is at 5 minutes and for Subscribers group, it is at 20 minutes.\n",
    "\n",
    "Distribution of Trip Duration for both types of users is **right skewed**, however, Customers distribution **has a right tail longer** than of the Subscribers distribution, hence it is more skewed to the right.\n"
   ]
  },
  {
   "cell_type": "code",
   "execution_count": 14,
   "metadata": {},
   "outputs": [],
   "source": [
    "## Use this and additional cells to answer Question 5. ##\n",
    "def duration_user_type (filename):\n",
    "    \"\"\"\n",
    "    This function reads in a trip data file and returns duration data\n",
    "    for Subscribers and Customers separately.\n",
    "    \"\"\"\n",
    "    with open(filename, 'r') as f_in:\n",
    "        # set up csv reader object\n",
    "        reader = csv.DictReader(f_in)\n",
    "       \n",
    "        # initialize count variable\n",
    "        duration_subscribers = []\n",
    "        duration_customers = []\n",
    "        \n",
    "        # tally up ride types\n",
    "        for row in reader:\n",
    "               \n",
    "            if row['user_type'] == 'Subscriber':\n",
    "                duration_subscribers.append(float(row['duration']))\n",
    "            else:\n",
    "                duration_customers.append(float(row['duration']))\n",
    "                \n",
    "    return duration_subscribers, duration_customers\n"
   ]
  },
  {
   "cell_type": "code",
   "execution_count": 36,
   "metadata": {},
   "outputs": [
    {
     "data": {
      "image/png": "[encoded data removed]",
      "text/plain": [
       "<matplotlib.figure.Figure at 0x7fd5c1952278>"
      ]
     },
     "metadata": {
      "needs_background": "light"
     },
     "output_type": "display_data"
    },
    {
     "data": {
      "image/png": "[encoded data removed]",
      "text/plain": [
       "<matplotlib.figure.Figure at 0x7fd5c194ccf8>"
      ]
     },
     "metadata": {
      "needs_background": "light"
     },
     "output_type": "display_data"
    }
   ],
   "source": [
    "data_file = './data/NYC-2016-Summary.csv'\n",
    "sdata, cdata = duration_user_type (data_file)\n",
    "\n",
    "# to allow data from 0 to 75 minnutes, 5 is the hist bin width \n",
    "bins = range(0,75,5)\n",
    "        \n",
    "plt.hist(cdata, bins, color='brown')\n",
    "plt.title('Customers distribution of Trip Durations in NYC')\n",
    "plt.xlabel('Duration (m)')\n",
    "plt.show()\n",
    "\n",
    "plt.hist(sdata, bins, color='cadetblue')\n",
    "plt.title('Subscribers distribution of Trip Durations in NYC')\n",
    "plt.xlabel('Duration (m)')\n",
    "plt.show()"
   ]
  },
  {
   "cell_type": "markdown",
   "metadata": {
    "collapsed": true
   },
   "source": [
    "<a id='eda_continued'></a>\n",
    "## Performing Your Own Analysis\n",
    "\n",
    "So far, you've performed an initial exploration into the data available. You have compared the relative volume of trips made between three U.S. cities and the ratio of trips made by Subscribers and Customers. For one of these cities, you have investigated differences between Subscribers and Customers in terms of how long a typical trip lasts. Now it is your turn to continue the exploration in a direction that you choose. Here are a few suggestions for questions to explore:\n",
    "\n",
    "- How does ridership differ by month or season? Which month / season has the highest ridership? Does the ratio of Subscriber trips to Customer trips change depending on the month or season?\n",
    "- Is the pattern of ridership different on the weekends versus weekdays? On what days are Subscribers most likely to use the system? What about Customers? Does the average duration of rides change depending on the day of the week?\n",
    "- During what time of day is the system used the most? Is there a difference in usage patterns for Subscribers and Customers?\n",
    "\n",
    "If any of the questions you posed in your answer to question 1 align with the bullet points above, this is a good opportunity to investigate one of them. As part of your investigation, you will need to create a visualization. If you want to create something other than a histogram, then you might want to consult the [Pyplot documentation](https://matplotlib.org/devdocs/api/pyplot_summary.html). In particular, if you are plotting values across a categorical variable (e.g. city, user type), a bar chart will be useful. The [documentation page for `.bar()`](https://matplotlib.org/devdocs/api/_as_gen/matplotlib.pyplot.bar.html#matplotlib.pyplot.bar) includes links at the bottom of the page with examples for you to build off of for your own use.\n",
    "\n",
    "**Question 6**: Continue the investigation by exploring another question that could be answered by the data available. Document the question you want to explore below. Your investigation should involve at least two variables and should compare at least two groups. You should also use at least one visualization as part of your explorations.\n",
    "\n",
    "**Answer**: \n",
    "\n",
    "**6.1. How does ridership differ by month or season? Which month / season has the highest ridership? Does the ratio of Subscriber trips to Customer trips change depending on the month or season?**\n",
    "\n",
    "For NYC city:\n",
    "\n",
    "Riderchip differs from one month/season to another, when we observe the highest ridership in summer(1) season, specially in September. The ratio of subscriber trips to customer trips is larger in fall and winter seasons than in summer and spring. This is due to several reasons, including the following:\n",
    "a. Because subscribers are mostly the residents of the city and use bike-sharing system for their different displacements.\n",
    "b. In summer (even in spring) the tourism is active by residents and visitors.\n",
    "\n",
    "\n",
    "**6.2. Is the pattern of ridership different on the weekends versus weekdays? On what days are Subscribers most likely to use the system? What about Customers? Does the average duration of rides change depending on the day of the week?**\n",
    "\n",
    "For NYC city:\n",
    "\n",
    "In the daily visulazations, ridership is higer in the weekends compared to weekdays.\n",
    "Subscribers use bike-sharing system more in the week days than in the weekends, while custumers do the opposite.\n",
    "Yes, the average duration of rides change depending on the day of the week. It is higher on the weekends by 2 to 3.5 minutes compared to the average in the weekdays.\n",
    "\n",
    "**6.3. During what time of day is the system used the most? Is there a difference in usage patterns for Subscribers and Customers?**\n",
    "\n",
    "For NYC city:\n",
    "\n",
    "In the houlerly ridership bar charts, we observe two time areas in which the system is used the most. The first time area involves the hours **7h, 8h and 9h** while the second area involves the hours **16h, 17h, 18h and 19h**. It is clear that these time areas represent the **rush hours**. \n",
    "Yes, there is a difference in system usage for the two user type. From subscribers ridership bar chart, the system usage by subscribers reaches the peak at rush hours. \n",
    "From customers ridership bar chart, we observe a very low ridership in the morning rush hour. Ridership starts rising from the **11h until 15h**, to come back down again. \n",
    "\n",
    "**6.4. how many stations were used in each city:**\n",
    "To answer to this question, I added addtional filesnames (star_id, end_id trip station) to our data file. see **time_of_trip** function.\n",
    "\n",
    "Used stations number in NYC is 647.\n",
    "In NYC, the proportion of trips starting from and ending at the same station is 1.9%.\n",
    "In NYC, the proportion of trips starting from one station and ending at another is 98.1%.\n",
    "\n",
    "Used stations number in Chicago is 559.\n",
    "In Chicago, the proportion of trips starting from and ending at the same station is 3.4%.\n",
    "In Chicago, the proportion of trips starting from one station and ending at another is 96.6%.\n",
    "\n",
    "Used stations number in Washington is 420.\n",
    "In Washington, the proportion of trips starting from and ending at the same station is 3.6%.\n",
    "In Washington, the proportion of trips starting from one station and ending at another is 96.4%.\n",
    "\n",
    "\n",
    "**6.5. what is the most used station in NYC:**\n",
    "\n",
    "In NYC, the most used station is station_id:519. It is used 5945 times in 2016\n",
    "\n",
    "Refer to **POSING QUESTION** section:\n",
    "\n",
    "I asked about How many bikes must be available at the docks for each city, to ensure continuous service and to not make more bikes available than necessary?\n",
    "Knowing the average trips duration, the number of trips in day/month/season can help here.\n",
    "\n",
    "I asked if it would be profitable to offer a lower trip price to the registered users in a given city?\n",
    "The ratio of subscribers to customers trips can answer this question widely. The sum of subscribers trips duration is bigger than of customers.\n"
   ]
  },
  {
   "cell_type": "markdown",
   "metadata": {},
   "source": [
    "**6.1.a** In the following cells, we aim to answer the following questions: How does ridership differ by month/season? Which month/season has the highest ridership? Does the ratio of Subscriber trips to Customer trips change depending on the month/season ?"
   ]
  },
  {
   "cell_type": "code",
   "execution_count": 15,
   "metadata": {},
   "outputs": [],
   "source": [
    "## Use this and additional cells to continue to explore the dataset. ##\n",
    "## Once you have performed your exploration, document your findings  ##\n",
    "## in the Markdown cell above.                                       ##\n",
    "def month_ridership(filename):\n",
    "    \"\"\"\n",
    "    This function takes data from the specified input file and compute\n",
    "    the total ridership, subscribers ridership, customers ridership and \n",
    "    the ratio of subscribers ridership to customers ridership for each\n",
    "    month in the data and puts them in a dictionary.\n",
    "    \"\"\"\n",
    "    city = filename.split('-')[0].split('/')[-1]\n",
    "    \n",
    "    with open(filename, 'r') as f_in:\n",
    "     \n",
    "    \n",
    "        # set up csv DictReader object ##\n",
    "        trip_reader = csv.DictReader(f_in)\n",
    "        \n",
    "        # set up a dictionary to hold ridership for each month \n",
    "        month_ridership= {}\n",
    "                \n",
    "        # collect data from and process each row\n",
    "        for row in trip_reader:\n",
    "                \n",
    "                if row['month'] in  month_ridership:\n",
    "                    # increment total number of trips by 1\n",
    "                    n = int(month_ridership[row['month']]['n_trips'])\n",
    "                    month_ridership[row['month']]['n_trips'] = n + 1\n",
    "                   \n",
    "                    if row['user_type'] == 'Subscriber':\n",
    "                        # increment subscribers number of trips by 1\n",
    "                        n = int(month_ridership[row['month']]['n_subs_trips'])\n",
    "                        month_ridership[row['month']]['n_subs_trips'] = n + 1\n",
    "                    else:\n",
    "                        # increment customers number of trips by 1\n",
    "                        n = int(month_ridership[row['month']]['n_cust_trips'])\n",
    "                        month_ridership[row['month']]['n_cust_trips'] = n + 1\n",
    "                        \n",
    "                else:\n",
    "                    # initialize nested dictionary for the month in row['month'] \n",
    "                    month_ridership[row['month']]={}\n",
    "                    month_ridership[row['month']]['n_trips'] = 1\n",
    "                    \n",
    "                    if row['user_type'] == 'Subscriber':\n",
    "                        month_ridership[row['month']]['n_subs_trips'] = 1\n",
    "                        \n",
    "                        # set at 0 for thzt if the next month the user is customer\n",
    "                        # we can increment this value in the above external \"if\"  bloc\n",
    "                        month_ridership[row['month']]['n_cust_trips']   = 0\n",
    "                    else:\n",
    "                        month_ridership[row['month']]['n_cust_trips'] = 1\n",
    "   \n",
    "                        # set at 0 for thzt if the next month the user is customer\n",
    "                        # we can increment this value in the above external \"if\"  bloc\n",
    "                        month_ridership[row['month']]['n_subs_trips'] = 0\n",
    "                    \n",
    "                        \n",
    "    for k in month_ridership:\n",
    "        # compute the ratio for each month\n",
    "        month_ridership[k]['subs_cust_ratio'] = round(month_ridership[k]['n_subs_trips']/month_ridership[k]['n_cust_trips'],1)\n",
    "    return month_ridership"
   ]
  },
  {
   "cell_type": "code",
   "execution_count": 23,
   "metadata": {},
   "outputs": [
    {
     "data": {
      "image/png": "[encoded data removed]",
      "text/plain": [
       "<matplotlib.figure.Figure at 0x7f37c8187c50>"
      ]
     },
     "metadata": {
      "needs_background": "light"
     },
     "output_type": "display_data"
    },
    {
     "data": {
      "image/png": "[encoded data removed]",
      "text/plain": [
       "<matplotlib.figure.Figure at 0x7f37a51b2ba8>"
      ]
     },
     "metadata": {
      "needs_background": "light"
     },
     "output_type": "display_data"
    },
    {
     "data": {
      "image/png": "[encoded data removed]",
      "text/plain": [
       "<matplotlib.figure.Figure at 0x7f37ac0cd7b8>"
      ]
     },
     "metadata": {
      "needs_background": "light"
     },
     "output_type": "display_data"
    },
    {
     "data": {
      "image/png": "[encoded data removed]",
      "text/plain": [
       "<matplotlib.figure.Figure at 0x7f37ac0ff320>"
      ]
     },
     "metadata": {
      "needs_background": "light"
     },
     "output_type": "display_data"
    }
   ],
   "source": [
    "# In this cell we plot data in the month_ridership dictionnary\n",
    "\n",
    "data_file = './data/NYC-2016-Summary.csv'\n",
    "city = data_file.split('-')[0].split('/')[-1]\n",
    "data=month_ridership(data_file)\n",
    "\n",
    "\n",
    "l1,l2,l3,l4 = [],[],[],[]\n",
    "keys = []\n",
    "\n",
    "for k in data:\n",
    "    # the best is to get keys (months) automaticly\n",
    "    keys.append(int(k))\n",
    "\n",
    "    l1.append(float(data[k]['n_trips']))\n",
    "    l2.append(float(data[k]['n_subs_trips']))\n",
    "    l3.append(float(data[k]['n_cust_trips']))\n",
    "    l4.append(float(data[k]['subs_cust_ratio']))\n",
    "#pprint(data)\n",
    "\n",
    "plt.figure(figsize=(8,4)) # to give more dimensions to the plot.\n",
    "plt.bar(keys,l1,color='black', align='center')\n",
    "plt.title('Monthly ridership in {}'.format(city))\n",
    "plt.xlabel('Month')\n",
    "plt.ylabel('Ridership')\n",
    "plt.show()   \n",
    "\n",
    "plt.figure(figsize=(8,4)) # to give more dimensions to the plot.\n",
    "plt.bar(keys,l2,color='darkseagreen', align='center')\n",
    "plt.title('Monthly subscribers ridership in {}'.format(city))\n",
    "plt.xlabel('Month')\n",
    "plt.ylabel('Ridership')\n",
    "plt.show()\n",
    "\n",
    "plt.figure(figsize=(8,4)) # to give more dimensions to the plot.\n",
    "plt.bar(keys,l3,color='crimson', align='center')\n",
    "plt.title('Monthly customers ridership in {}'.format(city))\n",
    "plt.xlabel('Month')\n",
    "plt.ylabel('Ridership')\n",
    "plt.show()     \n",
    "\n",
    "plt.figure(figsize=(8,4)) # to give more dimensions to the plot.\n",
    "plt.bar(keys,l4,color='darkorange', align='center')\n",
    "plt.title('Monthly ratio of subscribers trips to customers ridership in {}'.format(city))\n",
    "plt.xlabel('Month')\n",
    "plt.ylabel('subscribers ridership / customers ridership')\n",
    "plt.show()    \n",
    "\n"
   ]
  },
  {
   "cell_type": "markdown",
   "metadata": {},
   "source": [
    "**6.1.b** I thought that the bar charts by season will be more informative. For this I searched on the stackoverflow.com a function that transforms a date to a season, and I get the **season** function below:"
   ]
  },
  {
   "cell_type": "code",
   "execution_count": 24,
   "metadata": {},
   "outputs": [],
   "source": [
    "def season(month, day, HEMISPHERE):\n",
    "    \"\"\"    \n",
    "    This function takes month and day number and the HEMISPHERE\n",
    "    and returns the corresponding season.\n",
    "    \n",
    "    Input: \n",
    "    month: int. (1-12)\n",
    "    day:int. (1-31)\n",
    "    HEMISPHERE: str. 'north' or 'south'.\n",
    "    because seasons in the northern and southern hemispheres are not \n",
    "    the same, this input is used to give you the correct seasons given\n",
    "    a data, whether you are in the northern or southern hemisphere.\n",
    "    for more information about this topic see:\n",
    "    (https://www.soest.hawaii.edu/GG/ASK/seasons.html)\n",
    "    output: s:int. 0: spring. 1: summer. 2: fall. 3:winter.\n",
    "    \"\"\"\n",
    "    md = month * 100 + day\n",
    "\n",
    "    if ((md > 320) and (md < 621)):\n",
    "        s = 0 #spring\n",
    "    elif ((md > 620) and (md < 923)):\n",
    "        s = 1 #summer\n",
    "    elif ((md > 922) and (md < 1223)):\n",
    "        s = 2 #fall\n",
    "    else:\n",
    "        s = 3 #winter\n",
    "\n",
    "    if not HEMISPHERE == 'north':\n",
    "        s = (s + 2) % 3\n",
    "    return s"
   ]
  },
  {
   "cell_type": "code",
   "execution_count": 25,
   "metadata": {},
   "outputs": [],
   "source": [
    "def season_ridership(filename,HEMISPHERE):\n",
    "    \"\"\"\n",
    "    This function takes the hemisphere to which the city belongs and \n",
    "    data from the specified input file and compute the total ridership,\n",
    "    subscribers ridership, customers ridership and the ratio of subscribers \n",
    "    ridership to customers ridership for each season in the data and puts \n",
    "    them in a dictionary.\n",
    "    \"\"\"\n",
    "    city = filename.split('-')[0].split('/')[-1]\n",
    "    \n",
    "    with open(filename, 'r') as f_in:\n",
    "     \n",
    "    \n",
    "        # set up csv DictReader object ##\n",
    "        trip_reader = csv.DictReader(f_in)\n",
    "        \n",
    "        # set up a dictionary to hold ridership each season \n",
    "        season_ridership = {}\n",
    "                \n",
    "        # collect data from and process each row\n",
    "        for row in trip_reader:\n",
    "                # call season function to get season for month+day\n",
    "                s = season(int(row['month']), int(row['day']), HEMISPHERE)\n",
    "                \n",
    "                if s in  season_ridership:\n",
    "                    n = int(season_ridership[s]['n_trips'])\n",
    "                    season_ridership[s]['n_trips'] = n + 1\n",
    "                   \n",
    "                    if row['user_type'] == 'Subscriber':\n",
    "\n",
    "                        n = int(season_ridership[s]['n_subs_trips'])\n",
    "                        season_ridership[s]['n_subs_trips'] = n + 1\n",
    "                    else:\n",
    "                        n = int(season_ridership[s]['n_cust_trips'])\n",
    "                        season_ridership[s]['n_cust_trips'] = n + 1\n",
    "                        \n",
    "                else:\n",
    "                    season_ridership[s]={}\n",
    "                    season_ridership[s]['n_trips'] = 1\n",
    "                    if row['user_type'] == 'Subscriber':\n",
    "                        season_ridership[s]['n_subs_trips'] = 1\n",
    "\n",
    "                        season_ridership[s]['n_cust_trips']   = 0\n",
    "                    else:\n",
    "                        season_ridership[s]['n_cust_trips'] = 1\n",
    "   \n",
    "                        season_ridership[s]['n_subs_trips'] = 0\n",
    "                    \n",
    "                        \n",
    "    for k in season_ridership:\n",
    "        season_ridership[k]['subs_cust_ratio'] = round(season_ridership[k]['n_subs_trips']/season_ridership[k]['n_cust_trips'],1)\n",
    "    return season_ridership"
   ]
  },
  {
   "cell_type": "code",
   "execution_count": 26,
   "metadata": {
    "scrolled": true
   },
   "outputs": [
    {
     "data": {
      "image/png": "[encoded data removed]",
      "text/plain": [
       "<matplotlib.figure.Figure at 0x7f37a5fd9fd0>"
      ]
     },
     "metadata": {
      "needs_background": "light"
     },
     "output_type": "display_data"
    },
    {
     "data": {
      "image/png": "[encoded data removed]",
      "text/plain": [
       "<matplotlib.figure.Figure at 0x7f37a5f4f588>"
      ]
     },
     "metadata": {
      "needs_background": "light"
     },
     "output_type": "display_data"
    }
   ],
   "source": [
    "# In this cell we plot data in the season_ridership dictionnary\n",
    "import numpy as np\n",
    "\n",
    "data_file = './data/NYC-2016-SummaryA.csv'\n",
    "city = data_file.split('-')[0].split('/')[-1]\n",
    "data=season_ridership(data_file,'north')\n",
    "\n",
    "l1,l2,l3,l4 = [],[],[],[]\n",
    "keys = []\n",
    "\n",
    "for k in data:\n",
    "    keys.append(int(k))\n",
    "\n",
    "    l1.append(float(data[k]['n_trips']))\n",
    "    l2.append(float(data[k]['n_subs_trips']))\n",
    "    l3.append(float(data[k]['n_cust_trips']))\n",
    "    l4.append(float(data[k]['subs_cust_ratio']))\n",
    "    \n",
    "# set width of bar\n",
    "barWidth = 0.25\n",
    "\n",
    "# Set position of bar on X axis\n",
    "r1 = np.arange(len(l1))\n",
    "r2 = [x + barWidth for x in r1]\n",
    "r3 = [x + barWidth for x in r2]\n",
    "\n",
    "# Make the plot\n",
    "plt.bar(r1, l1, color='black', width=barWidth, edgecolor='white', label='Total')\n",
    "plt.bar(r2, l2, color='darkseagreen', width=barWidth, edgecolor='white', label='Subsribers')\n",
    "plt.bar(r3, l3, color='crimson', width=barWidth, edgecolor='white', label='Customers')\n",
    "\n",
    "# Add xticks on the middle of the group bars\n",
    "plt.xlabel('Season')\n",
    "plt.ylabel('Ridership')\n",
    "plt.xticks([r + barWidth for r in range(len(l1))], ['spring', 'summer','fall','winter'])\n",
    "plt.title('Seasonly ridership in {}'.format(city)) \n",
    "# Create legend & Show graphic\n",
    "plt.legend()\n",
    "plt.show()\n",
    "\n",
    "plt.bar(keys,l4, color='darkorange', width=0.5, align='center')\n",
    "plt.title('Seasonly ratio of subscribers ridership to customers ridership in {}'.format(city))\n",
    "plt.xlabel('Season')\n",
    "plt.ylabel('subscribers ridership / customers ridership')\n",
    "plt.show()    "
   ]
  },
  {
   "cell_type": "markdown",
   "metadata": {},
   "source": [
    "**6.2** In the following cells, we aim to answer the following questions:\n",
    "Is the pattern of ridership different on the weekends versus weekdays? On what days are Subscribers most likely to use the system? What about Customers? Does the average duration of rides change depending on the day of the week?"
   ]
  },
  {
   "cell_type": "code",
   "execution_count": 27,
   "metadata": {},
   "outputs": [],
   "source": [
    "def day_ridership(filename):\n",
    "    \"\"\"\n",
    "    This function takes data from the specified input file and compute the \n",
    "    for each weekday the following values:\n",
    "    1- the trip average duration  : day_ridership['day']['ave_duration']\n",
    "    2- the ridership: day_ridership['day']['n_trips']\n",
    "    3- the trip average duration for subsribers  : day_ridership['day']['subs_ave_duration']\n",
    "    4- the ridership for subsribers: day_ridership['day']['ns_trips']\n",
    "    5- the trip average duration for customers  : day_ridership['day']['cust_ave_duration']\n",
    "    6- the ridership for customers: day_ridership['day']['nc_trips']\n",
    "    7- the ratio of subscribers ridership to customers ridership : day_ridership['day']['subs_cust_ratio']\n",
    "    \"\"\"\n",
    "    city = filename.split('-')[0].split('/')[-1]\n",
    "    with open(filename, 'r') as f_in:\n",
    "     \n",
    "    \n",
    "        # set up csv DictReader object ##\n",
    "        trip_reader = csv.DictReader(f_in)\n",
    "        \n",
    "        # set up a dictionary to hold ridership for each month \n",
    "        day_ridership= {}\n",
    "                \n",
    "        # collect data from and process each row\n",
    "        for row in trip_reader:\n",
    "                \n",
    "                if row['day_of_week'] in  day_ridership:\n",
    "                    n = int(day_ridership[row['day_of_week']]['n_trips'])\n",
    "                    day_ridership[row['day_of_week']]['n_trips'] = n + 1\n",
    "                    S = float(day_ridership[row['day_of_week']]['ave_duration'])\n",
    "                    day_ridership[row['day_of_week']]['ave_duration'] = S + float(row['duration'])\n",
    "                   \n",
    "                    if row['user_type'] == 'Subscriber':\n",
    "\n",
    "                        n = int(day_ridership[row['day_of_week']]['n_subs_trips'])\n",
    "                        day_ridership[row['day_of_week']]['n_subs_trips'] = n + 1\n",
    "                        S = float(day_ridership[row['day_of_week']]['subs_ave_duration'])\n",
    "                        day_ridership[row['day_of_week']]['subs_ave_duration'] = S + float(row['duration'])\n",
    "                    else:\n",
    "                        n = int(day_ridership[row['day_of_week']]['n_cust_trips'])\n",
    "                        day_ridership[row['day_of_week']]['n_cust_trips'] = n + 1\n",
    "                        S = float(day_ridership[row['day_of_week']]['cust_ave_duration'])\n",
    "                        day_ridership[row['day_of_week']]['cust_ave_duration'] = S + float(row['duration'])\n",
    "                        \n",
    "                else:\n",
    "                    day_ridership[row['day_of_week']]={}\n",
    "                    day_ridership[row['day_of_week']]['n_trips'] = 1\n",
    "                    day_ridership[row['day_of_week']]['ave_duration'] =  float(row['duration'])\n",
    "                    if row['user_type'] == 'Subscriber':\n",
    "                        day_ridership[row['day_of_week']]['n_subs_trips'] = 1\n",
    "                        day_ridership[row['day_of_week']]['subs_ave_duration'] = float(row['duration'])\n",
    "\n",
    "                        day_ridership[row['day_of_week']]['n_cust_trips']   = 0\n",
    "                        day_ridership[row['day_of_week']]['cust_ave_duration'] = 0\n",
    "                    else:\n",
    "                        day_ridership[row['day_of_week']]['n_cust_trips'] = 1\n",
    "                        day_ridership[row['day_of_week']]['cust_ave_duration'] = float(row['duration'])\n",
    "   \n",
    "                        day_ridership[row['day_of_week']]['n_subs_trips'] = 0\n",
    "                        day_ridership[row['day_of_week']]['subs_ave_duration'] = 0\n",
    "                    \n",
    "                        \n",
    "    for k in day_ridership:\n",
    "        day_ridership[k]['ave_duration'] = round(day_ridership[k]['ave_duration']/day_ridership[k]['n_trips'],1)\n",
    "        day_ridership[k]['cust_ave_duration'] = round(day_ridership[k]['cust_ave_duration']/day_ridership[k]['n_cust_trips'],1)\n",
    "        day_ridership[k]['subs_ave_duration'] = round(day_ridership[k]['subs_ave_duration']/day_ridership[k]['n_subs_trips'],1)\n",
    "        \n",
    "        day_ridership[k]['subs_cust_ratio'] = round(day_ridership[k]['n_subs_trips']/day_ridership[k]['n_cust_trips'],1)\n",
    "    return day_ridership"
   ]
  },
  {
   "cell_type": "code",
   "execution_count": 28,
   "metadata": {},
   "outputs": [
    {
     "data": {
      "image/png": "[encoded data removed]",
      "text/plain": [
       "<matplotlib.figure.Figure at 0x7f37ac0696a0>"
      ]
     },
     "metadata": {
      "needs_background": "light"
     },
     "output_type": "display_data"
    },
    {
     "data": {
      "image/png": "[encoded data removed]",
      "text/plain": [
       "<matplotlib.figure.Figure at 0x7f37a5f9cb00>"
      ]
     },
     "metadata": {
      "needs_background": "light"
     },
     "output_type": "display_data"
    },
    {
     "data": {
      "image/png": "[encoded data removed]",
      "text/plain": [
       "<matplotlib.figure.Figure at 0x7f37a5df9780>"
      ]
     },
     "metadata": {
      "needs_background": "light"
     },
     "output_type": "display_data"
    }
   ],
   "source": [
    "# In this cell we plot data in the day_ridership dictionnary\n",
    "import numpy as np\n",
    "\n",
    "data_file = './data/NYC-2016-SummaryA.csv'\n",
    "city = data_file.split('-')[0].split('/')[-1]\n",
    "data=day_ridership(data_file)\n",
    "\n",
    "l1,l2,l3,l4,l5 = [],[],[],[],[]\n",
    "keys = []\n",
    "\n",
    "for k in data:\n",
    "    keys.append((k))\n",
    "\n",
    "    l1.append(float(data[k]['n_trips']))\n",
    "    l2.append(float(data[k]['n_subs_trips']))\n",
    "    l3.append(float(data[k]['n_cust_trips']))\n",
    "    l4.append(float(data[k]['subs_cust_ratio']))\n",
    "    l5.append(float(data[k]['ave_duration']))\n",
    "\n",
    "\n",
    "# set width of bar\n",
    "barWidth = 0.25\n",
    "\n",
    "# Set position of bar on X axis\n",
    "r1 = np.arange(len(l1))\n",
    "r2 = [x + barWidth for x in r1]\n",
    "r3 = [x + barWidth for x in r2]\n",
    "plt.figure(figsize=(8,4))\n",
    "# Make the plot\n",
    "plt.bar(r1, l1, color='black', width=barWidth, label='Total')\n",
    "plt.bar(r2, l2, color='darkseagreen', width=barWidth, label='Subsribers')\n",
    "plt.bar(r3, l3, color='crimson', width=barWidth, label='Customers')\n",
    "\n",
    "# Add xticks on the middle of the group bars\n",
    "plt.xlabel('Day of week')\n",
    "plt.ylabel('Ridership')\n",
    "plt.xticks([r + barWidth for r in range(len(l1))], keys)\n",
    "plt.title('Weekday ridership in {}'.format(city)) \n",
    "# Create legend & Show graphic\n",
    "plt.legend(loc='best')\n",
    "plt.show()\n",
    "\n",
    "plt.figure(figsize=(8,4))\n",
    "plt.bar(keys,l4, color='darkorange', width=0.5, align='center')\n",
    "plt.title('Weekday ratio of subscribers ridership to customers ridership in {}'.format(city))\n",
    "plt.xlabel('Day')\n",
    "plt.ylabel('subscribers ridership / customers ridership')\n",
    "plt.show()   \n",
    "\n",
    "plt.figure(figsize=(8,4))\n",
    "plt.bar(keys,l5, color='darkorchid', width=0.5, align='center')\n",
    "plt.title('Weekday average duration trips in {}'.format(city))\n",
    "plt.xlabel('Day')\n",
    "plt.ylabel('Average duration trips(m)')\n",
    "plt.show() \n"
   ]
  },
  {
   "cell_type": "markdown",
   "metadata": {},
   "source": [
    "**6.3** Cells below are used to answer to the following questions:\n",
    "During what time of day is the system used the most? Is there a difference in usage patterns for Subscribers and Customers?"
   ]
  },
  {
   "cell_type": "code",
   "execution_count": 19,
   "metadata": {},
   "outputs": [],
   "source": [
    "def hour_ridership(filename):\n",
    "    \"\"\"\n",
    "    This function takes data from the specified input file and compute the \n",
    "    for each hour in a day the following values:\n",
    "    1- the trip average duration  : hour_ridership['hour']['ave_duration']\n",
    "    2- the ridership: hour_ridership['hour']['n_trips']\n",
    "    3- the trip average duration for subsribers  : hour_ridership['hour']['subs_ave_duration']\n",
    "    4- the ridership for subsribers: hour_ridership['hour']['ns_trips']\n",
    "    5- the trip average duration for customers  : hour_ridership['hour']['cust_ave_duration']\n",
    "    6- the ridership for customers: hour_ridership['hour']['nc_trips']\n",
    "    7- the ratio of subscribers ridership to customers ridership : hour_ridership['hour']['subs_cust_ratio']\n",
    "    \"\"\"\n",
    "    city = filename.split('-')[0].split('/')[-1]\n",
    "    \n",
    "    with open(filename, 'r') as f_in:\n",
    "     \n",
    "    \n",
    "        # set up csv DictReader object ##\n",
    "        trip_reader = csv.DictReader(f_in)\n",
    "        \n",
    "        # set up a dictionary to hold ridership for each month \n",
    "        hour_ridership= {}\n",
    "                \n",
    "        # collect data from and process each row\n",
    "        for row in trip_reader:\n",
    "                \n",
    "                if row['hour'] in  hour_ridership:\n",
    "                    n = int(hour_ridership[row['hour']]['n_trips'])\n",
    "                    hour_ridership[row['hour']]['n_trips'] = n + 1\n",
    "                   \n",
    "                    if row['user_type'] == 'Subscriber':\n",
    "\n",
    "                        n = int(hour_ridership[row['hour']]['n_subs_trips'])\n",
    "                        hour_ridership[row['hour']]['n_subs_trips'] = n + 1\n",
    "                    else:\n",
    "                        n = int(hour_ridership[row['hour']]['n_cust_trips'])\n",
    "                        hour_ridership[row['hour']]['n_cust_trips'] = n + 1\n",
    "                        \n",
    "                else:\n",
    "                    hour_ridership[row['hour']]={}\n",
    "                    hour_ridership[row['hour']]['n_trips'] = 1\n",
    "                    if row['user_type'] == 'Subscriber':\n",
    "                        hour_ridership[row['hour']]['n_subs_trips'] = 1\n",
    "\n",
    "                        hour_ridership[row['hour']]['n_cust_trips']   = 0\n",
    "                    else:\n",
    "                        hour_ridership[row['hour']]['n_cust_trips'] = 1\n",
    "   \n",
    "                        hour_ridership[row['hour']]['n_subs_trips'] = 0\n",
    "                    \n",
    "                        \n",
    "    for k in hour_ridership:\n",
    "        hour_ridership[k]['subs_cust_ratio'] = round(hour_ridership[k]['n_subs_trips']/hour_ridership[k]['n_cust_trips'],1)\n",
    "    return hour_ridership"
   ]
  },
  {
   "cell_type": "code",
   "execution_count": 30,
   "metadata": {},
   "outputs": [
    {
     "data": {
      "image/png": "[encoded data removed]",
      "text/plain": [
       "<matplotlib.figure.Figure at 0x7f37a5ee86d8>"
      ]
     },
     "metadata": {
      "needs_background": "light"
     },
     "output_type": "display_data"
    },
    {
     "data": {
      "image/png": "[encoded data removed]",
      "text/plain": [
       "<matplotlib.figure.Figure at 0x7f37a5f161d0>"
      ]
     },
     "metadata": {
      "needs_background": "light"
     },
     "output_type": "display_data"
    },
    {
     "data": {
      "image/png": "[encoded data removed]",
      "text/plain": [
       "<matplotlib.figure.Figure at 0x7f37a5fafb70>"
      ]
     },
     "metadata": {
      "needs_background": "light"
     },
     "output_type": "display_data"
    }
   ],
   "source": [
    "# In this cell we plot data in the hour_ridership dictionnary\n",
    "data_file = './data/NYC-2016-SummaryA.csv'\n",
    "city = data_file.split('-')[0].split('/')[-1]\n",
    "data=hour_ridership(data_file)\n",
    "\n",
    "l1,l2,l3,l4 = [],[],[],[]\n",
    "keys = []\n",
    "\n",
    "for k in data:\n",
    "    keys.append(int(k))\n",
    "\n",
    "    l1.append(float(data[k]['n_trips']))\n",
    "    l2.append(float(data[k]['n_subs_trips']))\n",
    "    l3.append(float(data[k]['n_cust_trips']))\n",
    "    l4.append(float(data[k]['subs_cust_ratio']))\n",
    "    # l5.append(float(data[k]['ave_duration']))\n",
    "# pprint(keys)\n",
    "\n",
    "plt.bar(keys,l1, color='black', width=0.5, align='center')\n",
    "plt.title('Hourly ridership in {}'.format(city))\n",
    "plt.xlabel('Hour')\n",
    "plt.ylabel('Ridership')\n",
    "plt.show()     \n",
    "\n",
    "plt.bar(keys,l2, color='darkseagreen', width=0.5, align='center')\n",
    "plt.title('Hourly subscribers ridership in {}'.format(city))\n",
    "plt.xlabel('Hour')\n",
    "plt.ylabel('Ridership')\n",
    "plt.show()\n",
    "\n",
    "plt.bar(keys,l3, color='crimson', width=0.5, align='center')\n",
    "plt.title('Hourly customers ridership in {}'.format(city))\n",
    "plt.xlabel('Hour')\n",
    "plt.ylabel('Ridership')\n",
    "plt.show()     \n",
    "\n"
   ]
  },
  {
   "cell_type": "markdown",
   "metadata": {},
   "source": [
    "**6.4** In the followings cells, we try to know about bikes stations in each city"
   ]
  },
  {
   "cell_type": "code",
   "execution_count": 31,
   "metadata": {},
   "outputs": [],
   "source": [
    "def ride_station(filename):\n",
    "    \"\"\"\n",
    "    This function reads in a trip data file and return the number of\n",
    "    stations used in the given city, the propostion of trips that \n",
    "    starts and ands at the same station and the propostion of trips\n",
    "    that starts at one station and ends in another .\n",
    "    \"\"\"\n",
    "    with open(filename, 'r') as f_in:\n",
    "        # set up csv reader object\n",
    "        reader = csv.DictReader(f_in)\n",
    "         \n",
    "        \n",
    "        # initialize count variables\n",
    "        n_same_id = 0\n",
    "        n_diff_id = 0\n",
    "        station_ids = set()\n",
    "        \n",
    "        # tally up ride types\n",
    "        for row in reader:\n",
    "            station_ids.add(row['start_id'])\n",
    "            station_ids.add(row['end_id'])\n",
    "            if row['start_id'] == row['end_id']:\n",
    "                n_same_id += 1\n",
    "            else:\n",
    "                n_diff_id += 1\n",
    "        \n",
    "        # compute total number of rides\n",
    "        n_total = n_same_id + n_diff_id\n",
    "        \n",
    "        # return tallies as a tuple\n",
    "        return(round(n_same_id*100/n_total,1), round(n_diff_id*100/n_total,1), len(station_ids))"
   ]
  },
  {
   "cell_type": "code",
   "execution_count": 32,
   "metadata": {},
   "outputs": [
    {
     "name": "stdout",
     "output_type": "stream",
     "text": [
      "Used stations number in NYC is 647.\n",
      "In NYC, the proportion of trips starting from and ending at the same station is 1.9%.\n",
      "In NYC, the proportion of trips starting from one station and ending at another is 98.1%.\n",
      "\n",
      "Used stations number in Chicago is 559.\n",
      "In Chicago, the proportion of trips starting from and ending at the same station is 3.4%.\n",
      "In Chicago, the proportion of trips starting from one station and ending at another is 96.6%.\n",
      "\n",
      "Used stations number in Washington is 420.\n",
      "In Washington, the proportion of trips starting from and ending at the same station is 3.6%.\n",
      "In Washington, the proportion of trips starting from one station and ending at another is 96.4%.\n",
      "\n"
     ]
    }
   ],
   "source": [
    "data_file = ['./data/NYC-2016-SummaryA.csv','./data/Chicago-2016-SummaryA.csv','./data/Washington-2016-SummaryA.csv']\n",
    "for file in data_file:\n",
    "    city = file.split('-')[0].split('/')[-1]\n",
    "    data=ride_station(file)\n",
    "    print('Used stations number in {} is {}.'.format(city,data[2]))\n",
    "    print('In {}, the proportion of trips starting from and ending at the same station is {}%.'.format(city, data[0]))\n",
    "    print('In {}, the proportion of trips starting from one station and ending at another is {}%.\\n'.format(city, data[1]))"
   ]
  },
  {
   "cell_type": "markdown",
   "metadata": {},
   "source": [
    "**6.5** In the following cells, we will know which station is mostly used in a given city."
   ]
  },
  {
   "cell_type": "code",
   "execution_count": 33,
   "metadata": {},
   "outputs": [],
   "source": [
    "def most_used_station(filename):\n",
    "    \"\"\"\n",
    "    This function takes data trips filename and returns the most used \n",
    "    satition id and how often has been used. \n",
    "    \"\"\"\n",
    "    city = filename.split('-')[0].split('/')[-1]\n",
    "    \n",
    "    with open(filename, 'r') as f_in:\n",
    "         \n",
    "        # set up csv DictReader object ##\n",
    "        trip_reader = csv.DictReader(f_in)\n",
    "        \n",
    "        # set up a dictionary to hold stations id\n",
    "        station_id = {}\n",
    "   \n",
    "        # collect data from and process each row\n",
    "        for row in trip_reader:\n",
    "                \n",
    "                if row['start_id'] in  station_id:\n",
    "                    station_id[row['start_id']] = int(station_id[row['start_id']]) +1\n",
    "                else:\n",
    "                    station_id[row['start_id']] = 1\n",
    "                \n",
    "                if row['end_id'] in  station_id:\n",
    "                    station_id[row['end_id']] = int(station_id[row['end_id']]) +1\n",
    "                else:\n",
    "                    station_id[row['end_id']]= 1\n",
    "        \n",
    "    use_number =[]\n",
    "    for ids in station_id:\n",
    "        use_number.append(int(station_id[ids]))\n",
    "    max_use_number= max(use_number)  \n",
    "\n",
    "    \n",
    "    for k in station_id:\n",
    "        if int(station_id[k]) == max_use_number:\n",
    "            station = k\n",
    "            break\n",
    "                  \n",
    "    return station,max_use_number"
   ]
  },
  {
   "cell_type": "code",
   "execution_count": 36,
   "metadata": {},
   "outputs": [
    {
     "name": "stdout",
     "output_type": "stream",
     "text": [
      "\n",
      " In NYC, the most used station is station_id:519. It is used 5945 times in 2016\n"
     ]
    }
   ],
   "source": [
    "\n",
    "data_file = './data/NYC-2016-SummaryA.csv'\n",
    "city = data_file.split('-')[0].split('/')[-1]\n",
    "year = data_file.split('-')[1]\n",
    "station,max_use_number = most_used_station(data_file)\n",
    "print('\\n In {}, the most used station is station_id:{}. It is used {} times in {}'.format(city,station,max_use_number,year))"
   ]
  },
  {
   "cell_type": "markdown",
   "metadata": {},
   "source": [
    "<a id='conclusions'></a>\n",
    "## Conclusions\n",
    "\n",
    "Congratulations on completing the project! This is only a sampling of the data analysis process: from generating questions, wrangling the data, and to exploring the data. Normally, at this point in the data analysis process, you might want to draw conclusions about the data by performing a statistical test or fitting the data to a model for making predictions. There are also a lot of potential analyses that could be performed on the data which are not possible with only the data provided. For example, detailed location data has not been investigated. Where are the most commonly used docks? What are the most common routes? As another example, weather has potential to have a large impact on daily ridership. How much is ridership impacted when there is rain or snow? Are subscribers or customers affected more by changes in weather?\n",
    "\n",
    "**Question 7**: Putting the bike share data aside, think of a topic or field of interest where you would like to be able to apply the techniques of data science. What would you like to be able to learn from your chosen subject?\n",
    "\n",
    "**Answer**: \n",
    "\n",
    "I will be interested to apply the techniques of data science on **hypermarket with branches**. I would like to be able to know about:\n",
    "\n",
    "- The amount of sales made in different time periods; in weekdays, weekends, holidays, promotions days.\n",
    "- The number of visitors and customers. The less/most crowded branch. The most profitable branch. The number of loyal customers in each branch.\n",
    "- Select a group of top selling products (and a group of the least sold products) in a specific period.  \n",
    "- The number of products still available. The products that will be expired in a given time.  Is the right moment to offer promotions? For which products?\n",
    "- How do sales of a new product evolve? How do sales of a product of a new supplier evolve?\n",
    "- How the nature pavilion grows? The number of customers who buy regularly organic products? The most popular organic products?\n",
    "- I would like to make a comparison between sales of food and non-food products (textiles, furniture ..ect).\n",
    "- I would like to visualize the total sales by product.\n",
    "- Compare sales of two products of the same type from different suppliers.\n",
    "- Compare total sales by branch, by branch area and by population in which the branches is installed.\n",
    "\n",
    "\n",
    "\n",
    "\n",
    "\n",
    "\n",
    "\n",
    "> **Tip**: If we want to share the results of our analysis with others, we aren't limited to giving them a copy of the jupyter Notebook (.ipynb) file. We can also export the Notebook output in a form that can be opened even for those without Python installed. From the **File** menu in the upper left, go to the **Download as** submenu. You can then choose a different format that can be viewed more generally, such as HTML (.html) or\n",
    "PDF (.pdf). You may need additional packages or software to perform these exports.\n",
    "\n",
    "> If you are working on this project via the Project Notebook page in the classroom, you can also submit this project directly from the workspace. **Before you do that**, you should save an HTML copy of the completed project to the workspace by running the code cell below. If it worked correctly, the output code should be a 0, and if you click on the jupyter icon in the upper left, you should see your .html document in the workspace directory. Alternatively, you can download the .html copy of your report following the steps in the previous paragraph, then _upload_ the report to the directory (by clicking the jupyter icon).\n",
    "\n",
    "> Either way, once you've gotten the .html report in your workspace, you can complete your submission by clicking on the \"Submit Project\" button to the lower-right hand side of the workspace."
   ]
  },
  {
   "cell_type": "code",
   "execution_count": 9,
   "metadata": {},
   "outputs": [
    {
     "data": {
      "text/plain": [
       "0"
      ]
     },
     "execution_count": 9,
     "metadata": {},
     "output_type": "execute_result"
    }
   ],
   "source": [
    "from subprocess import call\n",
    "call(['python', '-m', 'nbconvert', 'Bike_Share_Analysis.ipynb'])"
   ]
  },
  {
   "cell_type": "code",
   "execution_count": null,
   "metadata": {},
   "outputs": [
    {
     "name": "stdout",
     "output_type": "stream",
     "text": [
      "Bike_Share_Analysis.html\n",
      "Bike_Share_Analysis.ipynb\n",
      "data/\n",
      "data/NYC-2016-SummaryA.csv\n",
      "data/Chicago-Divvy-2016.csv\n"
     ]
    }
   ],
   "source": [
    "!tar chvfz notebook.tar.gz *"
   ]
  },
  {
   "cell_type": "code",
   "execution_count": null,
   "metadata": {},
   "outputs": [],
   "source": []
  }
 ],
 "metadata": {
  "anaconda-cloud": {},
  "kernelspec": {
   "display_name": "Python 3",
   "language": "python",
   "name": "python3"
  },
  "language_info": {
   "codemirror_mode": {
    "name": "ipython",
    "version": 3
   },
   "file_extension": ".py",
   "mimetype": "text/x-python",
   "name": "python",
   "nbconvert_exporter": "python",
   "pygments_lexer": "ipython3",
   "version": "3.6.3"
  }
 },
 "nbformat": 4,
 "nbformat_minor": 1
}
